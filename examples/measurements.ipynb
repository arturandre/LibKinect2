{
 "cells": [
  {
   "cell_type": "code",
   "execution_count": 5,
   "id": "af77b1a1-7699-4355-860d-e89d1cb20ef0",
   "metadata": {},
   "outputs": [],
   "source": [
    "\"\"\"\n",
    "Demonstrating basic usage of Kinect2 cameras.\n",
    "\"\"\"\n",
    "from libkinect2.utils import draw_skeleton, depth_map_to_image, ir_to_image\n",
    "import numpy as np\n",
    "import cv2\n",
    "import os\n",
    "import h5py\n",
    "import time\n",
    "\n",
    "from libkinect2.utils import depth_map_to_image\n",
    "# frame rate (e.g., 10 frames per second)\n",
    "desired_frame_rate = 5\n",
    "frame_delay = 1.0 / desired_frame_rate\n",
    "farthresh = 10\n",
    "\n",
    "class Hdf5_Dataset():\n",
    "    def __init__(self, io_file=None, hf_handler=None, readmode=False):\n",
    "        \"\"\"\n",
    "        Either the output_file or the hf_handler need to be provided,\n",
    "        if both are provided hf_handler is ignored.\n",
    "        \"\"\"\n",
    "        self.readmode = readmode\n",
    "        if self.readmode:\n",
    "            self.hf_handler = h5py.File(io_file, \"r\")\n",
    "        else:\n",
    "            if io_file is not None:\n",
    "                if os.path.exists(io_file):\n",
    "                    self.hf_handler = h5py.File(io_file, \"a\")\n",
    "                else:\n",
    "                    self.hf_handler = h5py.File(io_file, \"w\")\n",
    "            elif hf_handler is not None:\n",
    "                self.hf_handler = hf_handler\n",
    "\n",
    "    def get_frames(self, dtname):\n",
    "        if not self.readmode:\n",
    "            raise Exception(\"Datasets can only be read when readmode = True!\")\n",
    "        return self.hf_handler[dtname][:]\n",
    "\n",
    "    def init_dataset(self, dtname, sample):\n",
    "        if self.readmode:\n",
    "            raise Exception(\"Can't create datasets in readmode!\")\n",
    "        self.hf_handler.create_dataset(\n",
    "                dtname, (1, *sample.shape), maxshape=(None, *sample.shape),\n",
    "                chunks=True)\n",
    "\n",
    "    def append_sample(self, dtname, sample):\n",
    "        if self.readmode:\n",
    "            raise Exception(\"Can't create datasets in readmode!\")\n",
    "        if dtname not in self.hf_handler:\n",
    "            self.init_dataset(dtname, sample)\n",
    "            print(f\"Appending to inexistent dataset: {dtname}. Created.\")\n",
    "        self.hf_handler[dtname].resize(\n",
    "            (self.hf_handler[dtname].shape[0] + 1, ) + sample.shape)\n",
    "\n",
    "    def __enter__(self):\n",
    "        pass\n",
    "        return self\n",
    "    \n",
    "    def __exit__(self, exception_type, exception_value, exception_traceback):\n",
    "        self.hf_handler.close()\n",
    "\n",
    "        \n",
    "input_file = r\"C:\\Users\\Artur Oliveira\\projetosdev\\LibKinect2\\frames.h5\"\n",
    "\n",
    "\n",
    "with Hdf5_Dataset(input_file, readmode=True) as hf:\n",
    "    color_imgs = hf.get_frames(\"rgb\")\n",
    "    depth_maps = hf.get_frames(\"depth\")\n",
    "    ir_datas = hf.get_frames(\"ir\")\n",
    "    frame_index = 0\n",
    "    start_time = time.time()\n",
    "    next_frame_time = start_time + frame_delay\n",
    "    frames = zip(color_imgs, depth_maps, ir_datas)\n",
    "    bg_img, depth_map, ir_img = next(frames)\n"
   ]
  },
  {
   "cell_type": "code",
   "execution_count": 6,
   "id": "acecc745-a39d-4b8f-a2fb-4ec50c0fdd1d",
   "metadata": {},
   "outputs": [],
   "source": [
    "import matplotlib.pyplot as plt"
   ]
  },
  {
   "cell_type": "code",
   "execution_count": 16,
   "id": "f4778dd1-7f41-4a1b-8453-1645a261d423",
   "metadata": {},
   "outputs": [
    {
     "data": {
      "text/plain": [
       "7665.0"
      ]
     },
     "execution_count": 16,
     "metadata": {},
     "output_type": "execute_result"
    }
   ],
   "source": [
    "depth_maps[13].max()"
   ]
  },
  {
   "cell_type": "code",
   "execution_count": 60,
   "id": "ddf9eda7-c0cc-441e-a26c-7513cbe8d7a2",
   "metadata": {},
   "outputs": [
    {
     "data": {
      "text/plain": [
       "(424, 512, 1)"
      ]
     },
     "execution_count": 60,
     "metadata": {},
     "output_type": "execute_result"
    }
   ],
   "source": [
    "depth_maps[0].shape"
   ]
  },
  {
   "cell_type": "code",
   "execution_count": 30,
   "id": "8324269a-44df-42f8-ac4b-d5d93843e7d6",
   "metadata": {},
   "outputs": [
    {
     "data": {
      "text/plain": [
       "<matplotlib.image.AxesImage at 0x2568edecd00>"
      ]
     },
     "execution_count": 30,
     "metadata": {},
     "output_type": "execute_result"
    },
    {
     "data": {
      "image/png": "[encoded data removed]",
      "text/plain": [
       "<Figure size 640x480 with 1 Axes>"
      ]
     },
     "metadata": {},
     "output_type": "display_data"
    }
   ],
   "source": [
    "r = 600\n",
    "m = 100\n",
    "box_mask = (depth_maps[13]>r) & (depth_maps[13]<r+m)\n",
    "plt.imshow(box_mask)"
   ]
  },
  {
   "cell_type": "code",
   "execution_count": 35,
   "id": "c2babdb6-ebbf-4c35-828b-263cb42b8fb2",
   "metadata": {},
   "outputs": [],
   "source": [
    "box_mask = box_mask.astype('uint8')*255\n",
    "\n"
   ]
  },
  {
   "cell_type": "code",
   "execution_count": 39,
   "id": "cbbfa678-c272-4fd2-b1d2-2578751ef1a6",
   "metadata": {},
   "outputs": [],
   "source": [
    "contours, _ = cv2.findContours(box_mask, cv2.RETR_EXTERNAL, cv2.CHAIN_APPROX_SIMPLE)\n",
    "convex_hull_image = np.zeros_like(box_mask)\n",
    "\n",
    "for contour in contours:\n",
    "    convex_hull = cv2.convexHull(contour)\n",
    "    \n",
    "    # Draw the convex hull on the empty image\n",
    "    cv2.drawContours(convex_hull_image, [convex_hull], 0, 255, -1)\n",
    "\n",
    "#plt.imshow('Grayscale Image', box_mask)\n"
   ]
  },
  {
   "cell_type": "code",
   "execution_count": 59,
   "id": "8bfc448d-0963-4ed7-b005-fd63516e6361",
   "metadata": {},
   "outputs": [
    {
     "name": "stdout",
     "output_type": "stream",
     "text": [
      "201\n",
      "88\n",
      "17688\n",
      "673.59784\n"
     ]
    }
   ],
   "source": [
    "minx = convex_hull.squeeze()[:,0].min()\n",
    "maxx = convex_hull.squeeze()[:,0].max()\n",
    "dx = maxx-minx\n",
    "miny = convex_hull.squeeze()[:,1].min()\n",
    "maxy = convex_hull.squeeze()[:,1].max()\n",
    "dy = maxy-miny\n",
    "area = (maxx-minx)*(maxy-miny)\n",
    "mean_dist = depth_maps[13][box_mask>1].mean()\n",
    "print(dx)\n",
    "print(dy)\n",
    "print(area)\n",
    "print(mean_dist) # Kinect gives points in mm ref: https://stackoverflow.com/a/9678900/3562468"
   ]
  },
  {
   "cell_type": "code",
   "execution_count": 68,
   "id": "bb4122c6-f3ce-4d57-9017-2e5fcb649dcd",
   "metadata": {},
   "outputs": [
    {
     "name": "stdout",
     "output_type": "stream",
     "text": [
      "The object's width in pixels is approximately 36.97 pixels.\n"
     ]
    }
   ],
   "source": [
    "# Known parameters\n",
    "# REF: https://stackoverflow.com/a/45481222/3562468\n",
    "box_cm = 35 # Referencial\n",
    "focal_length = 365.7 # Ref: https://www.semanticscholar.org/paper/Calibration-of-Kinect-for-Xbox-One-and-Comparison-Pagliari-Pinto/6efdd37a71f4cd3a7a0c82c89eabcbb223a11ea3\n",
    "horizontal_fov_deg = 70.6  \n",
    "depth_map_width = 512  \n",
    "\n",
    "# Calculate degrees per pixel in the horizontal direction\n",
    "degrees_per_pixel_horizontal = horizontal_fov_deg / depth_map_width\n",
    "\n",
    "# Calculate object width in pixels based on known width\n",
    "px_to_cm = dx *((mean_dist/10)/366.18)  # \n",
    "\n",
    "print(f\"The object's width in pixels is approximately {px_to_cm:.2f} pixels.\")\n"
   ]
  },
  {
   "cell_type": "code",
   "execution_count": 41,
   "id": "bb4ab863-2a03-41f2-a5e7-b189ff799ce3",
   "metadata": {},
   "outputs": [
    {
     "data": {
      "text/plain": [
       "<matplotlib.image.AxesImage at 0x25690ae47f0>"
      ]
     },
     "execution_count": 41,
     "metadata": {},
     "output_type": "execute_result"
    },
    {
     "data": {
      "image/png": "[encoded data removed]",
      "text/plain": [
       "<Figure size 640x480 with 1 Axes>"
      ]
     },
     "metadata": {},
     "output_type": "display_data"
    }
   ],
   "source": [
    "plt.imshow(convex_hull_image)"
   ]
  },
  {
   "cell_type": "code",
   "execution_count": null,
   "id": "1b2fcc83-52cc-4f09-abaf-f973f77ebaec",
   "metadata": {},
   "outputs": [],
   "source": [
    "    closest = depth_map.min()\n",
    "    print(f\"Closest: {closest}\")\n",
    "    rect_size = 10\n",
    "    tp = depth_map.shape[1]//2-rect_size\n",
    "    bt = depth_map.shape[1]//2+rect_size\n",
    "    lf = depth_map.shape[0]//2-rect_size\n",
    "    rt = depth_map.shape[0]//2+rect_size\n",
    "    \n",
    "    small_rect = depth_map[tp:bt, lf:rt]\n",
    "    depth_img = depth_map < closest+farthresh\n",
    "    print(f\"rect - min depth: {small_rect.min()} max depth {small_rect.max()}\")\n",
    "\n",
    "    depth_img = depth_img.astype('uint8')*255\n",
    "    ir_img = ir_to_image(ir_data)\n",
    "\n",
    "    depth_img[tp:bt  , lf:lf+1] = 255 # Left\n",
    "    depth_img[tp:bt  , rt-1:rt] = 255 # Right\n",
    "    depth_img[tp:tp+1, lf:rt] = 255 # Top\n",
    "    depth_img[bt-1:bt,lf:rt] = 255 # Bottom\n",
    "\n",
    "\n",
    "    # Resizing to present in screen\n",
    "    ir_img = cv2.resize(ir_img, (ir_img.shape[1]//2,ir_img.shape[0]//2))\n",
    "    bg_img = cv2.resize(color_img, (color_img.shape[1]//2,color_img.shape[0]//2))\n",
    "    depth_img = cv2.resize(depth_img, (depth_img.shape[1]//2,depth_img.shape[0]//2))\n",
    "\n",
    "    bg_img[:depth_img.shape[0],:depth_img.shape[1], :] = np.dstack([depth_img]*3)\n",
    "    bg_img[-ir_img.shape[0]:,:ir_img.shape[1], :] = ir_img\n",
    "\n",
    "    # Draw simple skeletons\n",
    "    #body_img = np.zeros(color_img.shape)\n",
    "    #for body in bodies:\n",
    "    #    draw_skeleton(body_img, body)\n",
    "    #bg_img[:424, -512:, :] = cv2.resize(body_img, (512, 424))\n",
    "    \n",
    "    cv2.imshow('sensors', bg_img)\n",
    "\n",
    "\n",
    "    key = cv2.waitKey(1) & 0xFF\n",
    "    if key == ord('q'):\n",
    "        break\n",
    "\n",
    "kinect.disconnect()"
   ]
  }
 ],
 "metadata": {
  "kernelspec": {
   "display_name": "Python 3 (ipykernel)",
   "language": "python",
   "name": "python3"
  },
  "language_info": {
   "codemirror_mode": {
    "name": "ipython",
    "version": 3
   },
   "file_extension": ".py",
   "mimetype": "text/x-python",
   "name": "python",
   "nbconvert_exporter": "python",
   "pygments_lexer": "ipython3",
   "version": "3.8.18"
  }
 },
 "nbformat": 4,
 "nbformat_minor": 5
}
